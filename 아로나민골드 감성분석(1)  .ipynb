{
 "cells": [
  {
   "cell_type": "markdown",
   "metadata": {},
   "source": [
    "# 감성점수 산출\n",
    "## SNS 엑셀 파일에서 총 긍정어, 부정어, 중립어의 개수를 구한다."
   ]
  },
  {
   "cell_type": "code",
   "execution_count": 4,
   "metadata": {},
   "outputs": [],
   "source": [
    "import pandas as pd"
   ]
  },
  {
   "cell_type": "code",
   "execution_count": 5,
   "metadata": {},
   "outputs": [],
   "source": [
    "import konlpy"
   ]
  },
  {
   "cell_type": "code",
   "execution_count": 3,
   "metadata": {},
   "outputs": [],
   "source": [
    "f=pd.read_excel(\"aron.xlsx\",header=None)"
   ]
  },
  {
   "cell_type": "markdown",
   "metadata": {},
   "source": [
    "#### *aron: 아로나민 골드 SNS 글이 각 행으로 이루어진 엑셀파일"
   ]
  },
  {
   "cell_type": "code",
   "execution_count": 6,
   "metadata": {},
   "outputs": [],
   "source": [
    "import konlpy\n",
    "from konlpy.tag import Kkma\n",
    "k = Kkma()"
   ]
  },
  {
   "cell_type": "code",
   "execution_count": 5,
   "metadata": {},
   "outputs": [],
   "source": [
    "sns_list=[]\n",
    "for i in range(len(f)) :\n",
    "    sns_list.append(k.pos(str(f.iloc[i,0]))) #형태소 분석한 각 행들을 리스트에 담음"
   ]
  },
  {
   "cell_type": "code",
   "execution_count": 6,
   "metadata": {},
   "outputs": [],
   "source": [
    "import csv\n",
    "\n",
    "f = open('polarity5.csv', mode='r', encoding = 'cp949')\n",
    "reader = csv.reader(f)\n",
    "d = {} \n",
    "for line in reader:\n",
    "    value = line[1]  #리스트로 반환됨\n",
    "    key = line[0]\n",
    "    d.update({key:value}) #\"형태소/형태소종류\"가 키이고 감성점수가 값인 딕셔너리 만듦\n",
    "f.close()"
   ]
  },
  {
   "cell_type": "markdown",
   "metadata": {},
   "source": [
    "#### *polarity5: 수정된 감성사전으로 ngram:\"형태소/형태소종류\" 와 max.value: 감성점수(1, 0, -1) 로 이루어짐\n",
    "    \n",
    "      -특징: VA, XR이 주된 형태소 종류이고 NNG, VA이 소수 추가됨 "
   ]
  },
  {
   "cell_type": "code",
   "execution_count": 7,
   "metadata": {},
   "outputs": [],
   "source": [
    "dic_list =[]\n",
    "for key in d.keys():\n",
    "        key2 = key.replace('*','').replace(';',' ').replace('/',' ').split()\n",
    "        key3 = tuple(key2)\n",
    "        dic_list.append(key3) #(형태소, 형태소종류) 형태의 튜플들을 한 리스트에 담음\n",
    "       \n",
    "dic2={}\n",
    "for z in range(len(dic_list)):\n",
    "    dic2.update({(dic_list[z]):list(d.values())[z]}) #키가 튜플형태이고 값은 그대로인 새로운 딕셔너리 만듦 "
   ]
  },
  {
   "cell_type": "code",
   "execution_count": 8,
   "metadata": {},
   "outputs": [],
   "source": [
    "same_list=[]\n",
    "for m in range(len(sns_list)):\n",
    "    for n in range(len(dic_list)):\n",
    "        if dic_list[n] in sns_list[m]:\n",
    "            same_list.append(dic_list[n]) #딕셔너리 키들중 각 SNS 행에 포함된 키들 리스트에 담음\n",
    "#SNS 한 문장 내 중복 표현은 한번만 반환"
   ]
  },
  {
   "cell_type": "code",
   "execution_count": 9,
   "metadata": {},
   "outputs": [],
   "source": [
    "wordAll=same_list\n",
    "wordDic={}\n",
    "for w in wordAll:\n",
    "    wordCnt=wordAll.count(w);\n",
    "    wordDic[w]=wordCnt #키가 공통 형태소이고 값이 빈도수인 딕셔너리 만듦"
   ]
  },
  {
   "cell_type": "code",
   "execution_count": 15,
   "metadata": {
    "scrolled": true
   },
   "outputs": [
    {
     "data": {
      "text/html": [
       "<div>\n",
       "<table border=\"1\" class=\"dataframe\">\n",
       "  <thead>\n",
       "    <tr style=\"text-align: right;\">\n",
       "      <th></th>\n",
       "      <th>ngram</th>\n",
       "      <th>polarity</th>\n",
       "      <th>count</th>\n",
       "    </tr>\n",
       "  </thead>\n",
       "  <tbody>\n",
       "    <tr>\n",
       "      <th>2</th>\n",
       "      <td>(피로, NNG)</td>\n",
       "      <td>-1</td>\n",
       "      <td>520</td>\n",
       "    </tr>\n",
       "    <tr>\n",
       "      <th>16</th>\n",
       "      <td>(좋, VA)</td>\n",
       "      <td>1</td>\n",
       "      <td>372</td>\n",
       "    </tr>\n",
       "    <tr>\n",
       "      <th>23</th>\n",
       "      <td>(같, VA)</td>\n",
       "      <td>0</td>\n",
       "      <td>242</td>\n",
       "    </tr>\n",
       "    <tr>\n",
       "      <th>28</th>\n",
       "      <td>(추천, NNG)</td>\n",
       "      <td>1</td>\n",
       "      <td>209</td>\n",
       "    </tr>\n",
       "    <tr>\n",
       "      <th>11</th>\n",
       "      <td>(회복, NNG)</td>\n",
       "      <td>1</td>\n",
       "      <td>189</td>\n",
       "    </tr>\n",
       "    <tr>\n",
       "      <th>6</th>\n",
       "      <td>(건강, NNG)</td>\n",
       "      <td>0</td>\n",
       "      <td>187</td>\n",
       "    </tr>\n",
       "    <tr>\n",
       "      <th>17</th>\n",
       "      <td>(없, VA)</td>\n",
       "      <td>0</td>\n",
       "      <td>177</td>\n",
       "    </tr>\n",
       "    <tr>\n",
       "      <th>3</th>\n",
       "      <td>(피곤, NNG)</td>\n",
       "      <td>-1</td>\n",
       "      <td>173</td>\n",
       "    </tr>\n",
       "    <tr>\n",
       "      <th>8</th>\n",
       "      <td>(많, VA)</td>\n",
       "      <td>0</td>\n",
       "      <td>116</td>\n",
       "    </tr>\n",
       "    <tr>\n",
       "      <th>4</th>\n",
       "      <td>(부작용, NNG)</td>\n",
       "      <td>-1</td>\n",
       "      <td>68</td>\n",
       "    </tr>\n",
       "    <tr>\n",
       "      <th>7</th>\n",
       "      <td>(저렴, XR)</td>\n",
       "      <td>1</td>\n",
       "      <td>66</td>\n",
       "    </tr>\n",
       "    <tr>\n",
       "      <th>21</th>\n",
       "      <td>(유명, NNG)</td>\n",
       "      <td>1</td>\n",
       "      <td>64</td>\n",
       "    </tr>\n",
       "    <tr>\n",
       "      <th>34</th>\n",
       "      <td>(크, VA)</td>\n",
       "      <td>0</td>\n",
       "      <td>62</td>\n",
       "    </tr>\n",
       "    <tr>\n",
       "      <th>40</th>\n",
       "      <td>(힘들, VA)</td>\n",
       "      <td>-1</td>\n",
       "      <td>59</td>\n",
       "    </tr>\n",
       "    <tr>\n",
       "      <th>24</th>\n",
       "      <td>(도움, NNG)</td>\n",
       "      <td>1</td>\n",
       "      <td>54</td>\n",
       "    </tr>\n",
       "    <tr>\n",
       "      <th>12</th>\n",
       "      <td>(다르, VA)</td>\n",
       "      <td>0</td>\n",
       "      <td>54</td>\n",
       "    </tr>\n",
       "    <tr>\n",
       "      <th>35</th>\n",
       "      <td>(괜찮, VA)</td>\n",
       "      <td>1</td>\n",
       "      <td>48</td>\n",
       "    </tr>\n",
       "    <tr>\n",
       "      <th>102</th>\n",
       "      <td>(감사, NNG)</td>\n",
       "      <td>1</td>\n",
       "      <td>42</td>\n",
       "    </tr>\n",
       "    <tr>\n",
       "      <th>37</th>\n",
       "      <td>(사랑, NNG)</td>\n",
       "      <td>1</td>\n",
       "      <td>37</td>\n",
       "    </tr>\n",
       "    <tr>\n",
       "      <th>5</th>\n",
       "      <td>(아프, VA)</td>\n",
       "      <td>-1</td>\n",
       "      <td>36</td>\n",
       "    </tr>\n",
       "  </tbody>\n",
       "</table>\n",
       "</div>"
      ],
      "text/plain": [
       "          ngram  polarity  count\n",
       "2     (피로, NNG)        -1    520\n",
       "16      (좋, VA)         1    372\n",
       "23      (같, VA)         0    242\n",
       "28    (추천, NNG)         1    209\n",
       "11    (회복, NNG)         1    189\n",
       "6     (건강, NNG)         0    187\n",
       "17      (없, VA)         0    177\n",
       "3     (피곤, NNG)        -1    173\n",
       "8       (많, VA)         0    116\n",
       "4    (부작용, NNG)        -1     68\n",
       "7      (저렴, XR)         1     66\n",
       "21    (유명, NNG)         1     64\n",
       "34      (크, VA)         0     62\n",
       "40     (힘들, VA)        -1     59\n",
       "24    (도움, NNG)         1     54\n",
       "12     (다르, VA)         0     54\n",
       "35     (괜찮, VA)         1     48\n",
       "102   (감사, NNG)         1     42\n",
       "37    (사랑, NNG)         1     37\n",
       "5      (아프, VA)        -1     36"
      ]
     },
     "execution_count": 15,
     "metadata": {},
     "output_type": "execute_result"
    }
   ],
   "source": [
    "ngram=[]\n",
    "polarity=[]\n",
    "count=[]\n",
    "for key, value in wordDic.items():\n",
    "    for key2, value2 in dic2.items():\n",
    "        if key == key2 :\n",
    "            ngram.append(key)\n",
    "            polarity.append(int(value2))\n",
    "            count.append(int(value))            \n",
    "        else:\n",
    "            pass\n",
    "data={'ngram': ngram, 'polarity':polarity, 'count':count} #차례로 \"(형태소/형태소종류)\", 감성점수(1,0,-1), 빈도수 의미  \n",
    "df=pd.DataFrame(data, columns=['ngram','polarity','count'])\n",
    "df=df.sort_values('count',ascending=False)\n",
    "df.head(20)"
   ]
  },
  {
   "cell_type": "code",
   "execution_count": 16,
   "metadata": {
    "scrolled": true
   },
   "outputs": [
    {
     "name": "stdout",
     "output_type": "stream",
     "text": [
      "         ngram  polarity  count\n",
      "16     (좋, VA)         1    372\n",
      "28   (추천, NNG)         1    209\n",
      "11   (회복, NNG)         1    189\n",
      "7     (저렴, XR)         1     66\n",
      "21   (유명, NNG)         1     64\n",
      "24   (도움, NNG)         1     54\n",
      "35    (괜찮, VA)         1     48\n",
      "102  (감사, NNG)         1     42\n",
      "37   (사랑, NNG)         1     37\n",
      "58   (행복, NNG)         1     19\n",
      "111    (싸, VA)         1     18\n",
      "9    (최고, NNG)         1     13\n",
      "50    (즐겁, VA)         1     12\n",
      "73    (고맙, VA)         1     12\n",
      "93    (맛있, VA)         1     10\n",
      "41    (편하, VA)         1     10\n",
      "68    (확실, XR)         1     10\n",
      "30    (새롭, VA)         1      9\n",
      "15     (젊, VA)         1      9\n",
      "112    (낫, VA)         1      8\n",
      "1385\n"
     ]
    }
   ],
   "source": [
    "df_pos=df[df['polarity']==1] # 긍정어만 포함하는 sub데이터프레임 생성\n",
    "print(df_pos.head(20)) \n",
    "print(df_pos['count'].sum()) # 총 긍정점수 반환"
   ]
  },
  {
   "cell_type": "code",
   "execution_count": 13,
   "metadata": {
    "scrolled": true
   },
   "outputs": [
    {
     "name": "stdout",
     "output_type": "stream",
     "text": [
      "          ngram  polarity  count\n",
      "23      (같, VA)         0    242\n",
      "6     (건강, NNG)         0    187\n",
      "17      (없, VA)         0    177\n",
      "8       (많, VA)         0    116\n",
      "34      (크, VA)         0     62\n",
      "12     (다르, VA)         0     54\n",
      "25  (다이어트, NNG)         0     35\n",
      "10      (높, VA)         0     32\n",
      "31      (작, VA)         0     26\n",
      "52      (쉽, VA)         0     25\n",
      "1061\n"
     ]
    }
   ],
   "source": [
    "df_neu=df[df['polarity']==0] # 중립어만 포함하는 sub데이터프레임 생성\n",
    "print(df_neu.head(10))\n",
    "print(df_neu['count'].sum()) # 총 중립점수 반환"
   ]
  },
  {
   "cell_type": "code",
   "execution_count": 17,
   "metadata": {
    "scrolled": true
   },
   "outputs": [
    {
     "name": "stdout",
     "output_type": "stream",
     "text": [
      "          ngram  polarity  count\n",
      "2     (피로, NNG)        -1    520\n",
      "3     (피곤, NNG)        -1    173\n",
      "4    (부작용, NNG)        -1     68\n",
      "40     (힘들, VA)        -1     59\n",
      "5      (아프, VA)        -1     36\n",
      "20     (병, NNG)        -1     33\n",
      "48    (걱정, NNG)        -1     26\n",
      "39     (비싸, VA)        -1     16\n",
      "0       (늦, VA)        -1     14\n",
      "43      (죽, VV)        -1     13\n",
      "85      (싫, VA)        -1     12\n",
      "90    (불안, NNG)        -1     10\n",
      "26     (약하, VA)        -1      9\n",
      "75     (무겁, VA)        -1      7\n",
      "1       (잦, VA)        -1      6\n",
      "22     (어렵, VA)        -1      6\n",
      "72     (무섭, VA)        -1      5\n",
      "101    (나쁘, VA)        -1      5\n",
      "74     (맛없, VA)        -1      4\n",
      "60     (심각, XR)        -1      4\n",
      "1067\n"
     ]
    }
   ],
   "source": [
    "df_neg=df[df['polarity']==-1] # 부정어만 포함하는 sub데이터프레임 생성\n",
    "print(df_neg.head(20))\n",
    "print(df_neg['count'].sum()) # 총 부정점수 반환"
   ]
  }
 ],
 "metadata": {
  "kernelspec": {
   "display_name": "Python 3",
   "language": "python",
   "name": "python3"
  },
  "language_info": {
   "codemirror_mode": {
    "name": "ipython",
    "version": 3
   },
   "file_extension": ".py",
   "mimetype": "text/x-python",
   "name": "python",
   "nbconvert_exporter": "python",
   "pygments_lexer": "ipython3",
   "version": "3.6.3"
  }
 },
 "nbformat": 4,
 "nbformat_minor": 2
}
